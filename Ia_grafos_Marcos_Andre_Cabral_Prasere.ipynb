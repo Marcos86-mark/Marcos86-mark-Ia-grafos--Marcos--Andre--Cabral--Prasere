{
  "cells": [
    {
      "cell_type": "markdown",
      "metadata": {
        "id": "view-in-github",
        "colab_type": "text"
      },
      "source": [
        "<a href=\"https://colab.research.google.com/github/Marcos86-mark/Marcos86-mark-Ia-grafos--Marcos--Andre--Cabral--Prasere/blob/main/Ia_grafos_Marcos_Andre_Cabral_Prasere.ipynb\" target=\"_parent\"><img src=\"https://colab.research.google.com/assets/colab-badge.svg\" alt=\"Open In Colab\"/></a>"
      ]
    },
    {
      "cell_type": "markdown",
      "source": [
        "Lista de Exercícios N2 - Grafos e Algoritmos de Busca\n",
        "\n",
        "Nome: [MARCOS ANDRE CABRAL PRASERES]\n",
        "\n",
        "Turma: [ENGCO221N01]\n",
        "\n",
        "GitHub: https://github.com/Marcos86-mark/Marcos86-mark-Ia-grafos--Marcos--Andre--Cabral--Prasere.git
      ],
      "metadata": {
        "id": "aZcr_7EFyZkp"
      }
    },
    {
      "cell_type": "markdown",
      "source": [
        "Parte A — Algoritmo de Dijkstra\n",
        "\n",
        "Implementação do Algoritmo de Dijkstra"
      ],
      "metadata": {
        "id": "rmDmTieYyf3_"
      }
    },
    {
      "cell_type": "code",
      "source": [
        "import heapq\n",
        "from collections import defaultdict\n",
        "import matplotlib.pyplot as plt\n",
        "import numpy as np\n",
        "\n",
        "class Graph:\n",
        "    def __init__(self):\n",
        "        self.adjacency_list = defaultdict(list)\n",
        "\n",
        "    def add_edge(self, u, v, weight):\n",
        "        self.adjacency_list[u].append((v, weight))\n",
        "        self.adjacency_list[v].append((u, weight))\n",
        "\n",
        "    def dijkstra(self, start):\n",
        "\n",
        "        dist = {node: float('inf') for node in self.adjacency_list}\n",
        "        parent = {node: None for node in self.adjacency_list}\n",
        "        dist[start] = 0\n",
        "\n",
        "\n",
        "        pq = [(0, start)]\n",
        "\n",
        "        while pq:\n",
        "            current_dist, current_node = heapq.heappop(pq)\n",
        "\n",
        "\n",
        "            if current_dist > dist[current_node]:\n",
        "                continue\n",
        "\n",
        "\n",
        "            for neighbor, weight in self.adjacency_list[current_node]:\n",
        "                distance = current_dist + weight\n",
        "\n",
        "\n",
        "                if distance < dist[neighbor]:\n",
        "                    dist[neighbor] = distance\n",
        "                    parent[neighbor] = current_node\n",
        "                    heapq.heappush(pq, (distance, neighbor))\n",
        "\n",
        "        return dist, parent\n",
        "\n",
        "def reconstruct_path(parent, target):\n",
        "    path = []\n",
        "    current = target\n",
        "\n",
        "    while current is not None:\n",
        "        path.append(current)\n",
        "        current = parent[current]\n",
        "\n",
        "    return path[::-1]\n",
        "\n",
        "\n",
        "def test_dijkstra():\n",
        "\n",
        "    g = Graph()\n",
        "\n",
        "\n",
        "    g.add_edge('Hospital', 'A', 5)\n",
        "    g.add_edge('Hospital', 'B', 10)\n",
        "    g.add_edge('A', 'C', 3)\n",
        "    g.add_edge('A', 'D', 8)\n",
        "    g.add_edge('B', 'D', 2)\n",
        "    g.add_edge('B', 'E', 15)\n",
        "    g.add_edge('C', 'F', 4)\n",
        "    g.add_edge('D', 'F', 5)\n",
        "    g.add_edge('D', 'E', 7)\n",
        "    g.add_edge('E', 'Local', 3)\n",
        "    g.add_edge('F', 'Local', 6)\n",
        "\n",
        "\n",
        "    start = 'Hospital'\n",
        "    target = 'Local'\n",
        "    dist, parent = g.dijkstra(start)\n",
        "\n",
        "\n",
        "    path = reconstruct_path(parent, target)\n",
        "\n",
        "    print(f\"Distância mínima de {start} para {target}: {dist[target]} minutos\")\n",
        "    print(f\"Caminho: {' -> '.join(path)}\")\n",
        "\n",
        "\n",
        "    print(\"\\nDistâncias mínimas do Hospital:\")\n",
        "    for node, distance in dist.items():\n",
        "        print(f\"  {node}: {distance} minutos\")\n",
        "\n",
        "    return g, dist, parent, path\n",
        "\n",
        "\n",
        "print(\"=== TESTE DO ALGORITMO DE DIJKSTRA ===\")\n",
        "graph, distances, parents, optimal_path = test_dijkstra()"
      ],
      "metadata": {
        "id": "b7hm3Nwgw98f",
        "outputId": "b398c9a1-756a-4481-db6d-20e06a99a67e",
        "colab": {
          "base_uri": "https://localhost:8080/"
        }
      },
      "execution_count": null,
      "outputs": [
        {
          "output_type": "stream",
          "name": "stdout",
          "text": [
            "=== TESTE DO ALGORITMO DE DIJKSTRA ===\n",
            "Distância mínima de Hospital para Local: 18 minutos\n",
            "Caminho: Hospital -> A -> C -> F -> Local\n",
            "\n",
            "Distâncias mínimas do Hospital:\n",
            "  Hospital: 0 minutos\n",
            "  A: 5 minutos\n",
            "  B: 10 minutos\n",
            "  C: 8 minutos\n",
            "  D: 12 minutos\n",
            "  E: 19 minutos\n",
            "  F: 12 minutos\n",
            "  Local: 18 minutos\n"
          ]
        }
      ]
    },
    {
      "cell_type": "markdown",
      "source": [
        "1. Por que Dijkstra exige arestas não negativas?\n",
        "\n",
        "O algoritmo de Dijkstra funciona sob o princípio de que uma vez que um nó é marcado como visitado (retirado da fila de prioridade), sua distância mínima já foi encontrada. Com pesos negativos, este princípio é violado porque um caminho mais longo poderia se tornar mais curto ao passar por uma aresta negativa posteriormente. Isso faria com que o algoritmo não garantisse a corretude do resultado.\n",
        "\n",
        "2. Qual a complexidade do algoritmo com lista de adjacência e heapq?\n",
        "\n",
        "A complexidade é O((V + E) log V), onde:\n",
        "\n",
        "· V é o número de vértices · E é o número de arestas\n",
        "\n",
        "Cada vértice é inserido/removido da heap (O(log V)) e cada aresta é processada uma vez. Com heap binária, as operações de inserção e remoção são logarítmicas, resultando nessa complexidade eficiente."
      ],
      "metadata": {
        "id": "fwMXlXOGzalA"
      }
    },
    {
      "cell_type": "markdown",
      "source": [
        "Parte B — Algoritmo A\n",
        "\n",
        "Implementação do Algoritmo A"
      ],
      "metadata": {
        "id": "aiawtdtJzcRR"
      }
    },
    {
      "cell_type": "code",
      "source": [
        "class Node:\n",
        "    def __init__(self, position, g=0, h=0, parent=None):\n",
        "        self.position = position\n",
        "        self.g = g\n",
        "        self.h = h\n",
        "        self.f = g + h\n",
        "        self.parent = parent\n",
        "\n",
        "    def __lt__(self, other):\n",
        "        return self.f < other.f\n",
        "\n",
        "def manhattan_distance(a, b):\n",
        "    return abs(a[0] - b[0]) + abs(a[1] - b[1])\n",
        "\n",
        "def generate_grid(size=20, obstacle_density=0.15):\n",
        "    grid = np.zeros((size, size))\n",
        "    num_obstacles = int(size * size * obstacle_density)\n",
        "\n",
        "\n",
        "    for _ in range(num_obstacles):\n",
        "        x, y = np.random.randint(0, size, 2)\n",
        "        grid[x, y] = 1\n",
        "\n",
        "\n",
        "    grid[0, 0] = 0\n",
        "    grid[size-1, size-1] = 0\n",
        "\n",
        "    return grid\n",
        "\n",
        "def get_neighbors(position, grid_size):\n",
        "    x, y = position\n",
        "    neighbors = []\n",
        "\n",
        "\n",
        "    for dx, dy in [(0, 1), (1, 0), (0, -1), (-1, 0)]:\n",
        "        nx, ny = x + dx, y + dy\n",
        "        if 0 <= nx < grid_size and 0 <= ny < grid_size:\n",
        "            neighbors.append((nx, ny))\n",
        "\n",
        "    return neighbors\n",
        "\n",
        "def a_star(grid, start, goal, heuristic):\n",
        "    grid_size = len(grid)\n",
        "    open_set = []\n",
        "    closed_set = set()\n",
        "\n",
        "\n",
        "    start_node = Node(start, 0, heuristic(start, goal))\n",
        "    heapq.heappush(open_set, start_node)\n",
        "\n",
        "\n",
        "    came_from = {}\n",
        "    g_score = {start: 0}\n",
        "\n",
        "    while open_set:\n",
        "        current_node = heapq.heappop(open_set)\n",
        "\n",
        "\n",
        "        if current_node.position == goal:\n",
        "            path = []\n",
        "            current = current_node.position\n",
        "            while current in came_from:\n",
        "                path.append(current)\n",
        "                current = came_from[current]\n",
        "            path.append(start)\n",
        "            return path[::-1], closed_set\n",
        "\n",
        "        closed_set.add(current_node.position)\n",
        "\n",
        "        for neighbor in get_neighbors(current_node.position, grid_size):\n",
        "\n",
        "            if grid[neighbor[0], neighbor[1]] == 1 or neighbor in closed_set:\n",
        "                continue\n",
        "\n",
        "\n",
        "            tentative_g = g_score[current_node.position] + 1\n",
        "\n",
        "            if neighbor not in g_score or tentative_g < g_score[neighbor]:\n",
        "\n",
        "                came_from[neighbor] = current_node.position\n",
        "                g_score[neighbor] = tentative_g\n",
        "                h = heuristic(neighbor, goal)\n",
        "                f = tentative_g + h\n",
        "\n",
        "                neighbor_node = Node(neighbor, tentative_g, h)\n",
        "                neighbor_node.f = f\n",
        "\n",
        "                heapq.heappush(open_set, neighbor_node)\n",
        "\n",
        "    return None, closed_set\n",
        "\n",
        "def visualize_grid_and_path(grid, path=None, explored=None):\n",
        "    plt.figure(figsize=(10, 10))\n",
        "    grid_size = len(grid)\n",
        "\n",
        "\n",
        "    viz_grid = np.copy(grid)\n",
        "\n",
        "\n",
        "    if explored:\n",
        "        for cell in explored:\n",
        "            if grid[cell[0], cell[1]] == 0:\n",
        "                viz_grid[cell[0], cell[1]] = 0.5\n",
        "\n",
        "\n",
        "    if path:\n",
        "        for cell in path:\n",
        "            viz_grid[cell[0], cell[1]] = 0.8\n",
        "\n",
        "\n",
        "    viz_grid[0, 0] = 0.3\n",
        "    viz_grid[grid_size-1, grid_size-1] = 0.9\n",
        "\n",
        "    plt.imshow(viz_grid, cmap='viridis')\n",
        "    plt.colorbar(label='Tipo de célula')\n",
        "    plt.title('A* Search - Labirinto com Caminho')\n",
        "    plt.show()\n",
        "\n",
        "\n",
        "def test_a_star():\n",
        "    grid = generate_grid(20, 0.15)\n",
        "    start = (0, 0)\n",
        "    goal = (19, 19)\n",
        "\n",
        "    path, explored = a_star(grid, start, goal, manhattan_distance)\n",
        "\n",
        "    if path:\n",
        "        print(f\"Caminho encontrado! Comprimento: {len(path)} passos\")\n",
        "        print(f\"Nós explorados: {len(explored)}\")\n",
        "        visualize_grid_and_path(grid, path, explored)\n",
        "    else:\n",
        "        print(\"Não foi possível encontrar um caminho!\")\n",
        "        visualize_grid_and_path(grid, explored=explored)\n",
        "\n",
        "    return grid, path, explored\n",
        "\n",
        "\n",
        "grid, path, explored = test_a_star()"
      ],
      "metadata": {
        "id": "NOQdG4hCzfB4",
        "outputId": "c4ab51c3-2939-417d-ecf8-8db27f980950",
        "colab": {
          "base_uri": "https://localhost:8080/",
          "height": 856
        }
      },
      "execution_count": null,
      "outputs": [
        {
          "output_type": "stream",
          "name": "stdout",
          "text": [
            "Caminho encontrado! Comprimento: 39 passos\n",
            "Nós explorados: 200\n"
          ]
        },
        {
          "output_type": "display_data",
          "data": {
            "text/plain": [
              "<Figure size 1000x1000 with 2 Axes>"
            ],
            "image/png": "iVBORw0KGgoAAAANSUhEUgAAAykAAAMkCAYAAAC89G+0AAAAOnRFWHRTb2Z0d2FyZQBNYXRwbG90bGliIHZlcnNpb24zLjEwLjAsIGh0dHBzOi8vbWF0cGxvdGxpYi5vcmcvlHJYcgAAAAlwSFlzAAAPYQAAD2EBqD+naQAAZK5JREFUeJzt3Xl4FFXa9/FfJ0ACQgJIFoJhFxBZ4gDGsAg8BgI6KDgqRBwWEcUhKEZccJSAOMaNRYUhbiyjKMg8iD6CYYmAOgSRJaP4CkIEAkLCoiQQhEB3vX8grW0W6JB0HZLv57rquuzqU+fcVem03Dl3nXJYlmUJAAAAAAzhZ3cAAAAAAPB7JCkAAAAAjEKSAgAAAMAoJCkAAAAAjEKSAgAAAMAoJCkAAAAAjEKSAgAAAMAoJCkAAAAAjEKSAgAAAMAoJCkAAAAAjEKSAgAAAFQQn332mfr166eIiAg5HA4tWbLkvMesWbNGf/rTnxQQEKDmzZtr7ty55R7n+ZCkAAAAABVEfn6+2rdvr5kzZ15Q+127dummm25Sz549lZGRobFjx+qee+7R8uXLyznSkjksy7JsjQAAAABAmXM4HPrggw/Uv3//Yts89thjWrp0qbZu3ereN2jQIB09elSpqak+iLJozKQAAAAAlVR6erpiY2M99sXFxSk9Pd2miM6qYuvoAAAAgAFOnjypgoICu8MokmVZcjgcHvsCAgIUEBBw0X1nZ2crLCzMY19YWJjy8vL0yy+/qHr16hc9RmmQpAAAAKBSO3nypJo0qqnsg067QylSzZo1dfz4cY99SUlJmjhxoj0B+QBJCgAAACq1goICZR90as+mxgqqZdbdEHnHXGrUYbf27t2roKAg9/6ymEWRpPDwcOXk5Hjsy8nJUVBQkG2zKBJJCgAAACBJCqrlp6Ba/naHUaSgoCCPJKWsxMTEaNmyZR77Vq5cqZiYmDIfyxskKQAAAIAklyy55LI7DA8uebcQ7/Hjx7Vz50736127dikjI0N169ZVw4YNNX78eP3444/617/+JUkaNWqUZsyYoUcffVR33323Pv30U73//vtaunRpmZ6Ht8yazwIAAABQahs3btQ111yja665RpKUmJioa665RhMmTJAkHThwQFlZWe72TZo00dKlS7Vy5Uq1b99eU6ZM0Ztvvqm4uDhb4j+H56QAAACgUsvLy1NwcLCOfN/EyHtSLm+xS7m5ueVS7mUqyr0AAAAASU7LJadhf753WmaVn/mKWakiAAAAgEqPJAUAAACAUSj3AgAAAHRudS+z6r1Mi8dXmEkBAAAAYBSSFAAAAABGodwLAAAAkOQy7lGOMjAi32AmBQAAAIBRSFIAAAAAGIVyLwAAAECS07LktMxaTcu0eHyFmRQAAAAARiFJAQAAAGAUyr0AAAAA8TBHkzCTAgAAAMAoJCkAAAAAjEK5FwAAAKCzpVVOw8qrKPcCAAAAAAOQpAAAAAAwCuVeAAAAgFjdyyTMpAAAAAAwCkkKAAAAAKNQ7gUAAABIclqWnJZZ5VWmxeMrzKQAAAAAMApJCgAAAACjUO4FAAAASHL9upnEtHh8hZkUAAAAAEYhSQEAAABgFMq9AAAAAElOWXIa9vBE0+LxFWZSAAAAABiFJAUAAACAUSj3AgAAACQ5rbObSUyLx1eYSQEAAABgFJIUAAAAAEah3AsAAAAQD3M0CTMpAAAAAIxCkgIAAADAKJR7AQAAAJJccsgph91heHAZFo+vMJMCAAAAwCgkKQAAAACMQrkXAAAAIMllnd1MYlo8vsJMCgAAAACjkKQAAAAAMArlXgAAAIAkp4Gre5kWj68wkwIAAADAKCQpAAAAAIxCuRcAAAAgyr1MwkwKANs4HA4lJCTYHYbXevTooTZt2py33e7du+VwODR37twL6nfYsGFq3LjxxQUHYzgcDk2cOLHUx16KvxsAUFZIUgAf+ec//ymHw6Ho6OjztvX2H6rffPONbrvtNjVq1EiBgYFq0KCBevXqpVdffbWU0VY8Ff0ffcuWLSv1P4grAqfTqTlz5qhHjx6qW7euAgIC1LhxYw0fPlwbN260OzwAgJco9wJ8ZP78+WrcuLE2bNignTt3qnnz5h7vr1q1Sj179pS/v7/H/uXLlysuLq7YftetW6eePXuqYcOGGjlypMLDw7V3716tX79eL7/8ssaMGVMu54Pza9SokX755RdVrVr1gtq/8cYbcrlcpRpr2bJlmjlzZqVMVH755RfdeuutSk1N1fXXX68nnnhCdevW1e7du/X+++9r3rx5ysrK0hVXXOHzuKpU4X+zwKXEZTnksswqrzItHl/h2xPwgV27dmndunVavHix7rvvPs2fP19JSUnu9y3L0htvvKHx48frzTffdB8zatQoWZalLl26qGbNmkX2/Y9//EPBwcH66quvVLt2bY/3Dh48WG7nVJz8/HxddtllPh/XRA6HQ4GBgedtd+6aXWgyA0+PPPKIUlNTNW3aNI0dO9bjvaSkJE2bNs2WuC7kZw8AKBrlXoAPzJ8/X3Xq1NFNN92k2267TfPnz/d43+FwaOHChZo6dapGjRqlAwcO6NZbb9Xo0aO1YsWKYhMUScrMzNTVV19dKEGRpNDQ0EL73nnnHXXo0EHVq1dX3bp1NWjQIO3du9ejzeeff67bb79dDRs2VEBAgCIjI/XQQw/pl19+8Wg3bNgw1axZU5mZmbrxxhtVq1YtDR48WJLkcrn08ssvq23btgoMDFRISIj69OlTZOnNkiVL1KZNGwUEBOjqq69Wampqsedbnj788EPddNNNioiIUEBAgJo1a6bJkyfL6XQW2X7Tpk3q3LmzqlevriZNmiglJcXj/aLuSSnpmv3xnpRzx7/00kt6/fXX1axZMwUEBKhTp0766quvPPqcOXOmpLOfpXPbOfn5+Xr44YcVGRmpgIAAtWzZUi+99JIsy7qg6/Lll1/qxhtvVJ06dXTZZZepXbt2evnllz3afPrpp+rWrZsuu+wy1a5dW7fccou+++47jzYTJ06Uw+HQ999/r7vuukvBwcEKCQnRU089JcuytHfvXt1yyy0KCgpSeHi4pkyZct7Y9u3bp9dee029evUqlKBIkr+/v8aNG+eeRdmzZ4/+9re/qWXLlqpevbouv/xy3X777dq9e7fHcXPnzpXD4dAXX3yhBx54QCEhIapdu7buu+8+FRQU6OjRoxoyZIjq1KmjOnXq6NFHHy10Pf94T8q589+5c6eGDRum2rVrKzg4WMOHD9eJEyeKPL8L+d3YsmWL+vbtq6CgINWsWVM33HCD1q9ff95rBwAmYyYF8IH58+fr1ltvVbVq1RQfH69Zs2bpq6++UqdOnTza+fn5efzj8vf/XZxGjRopPT1dW7duPe/N3P/4xz/01FNP6Y477tA999yjQ4cO6dVXX9X111+vLVu2uBOdRYsW6cSJE7r//vt1+eWXa8OGDXr11Ve1b98+LVq0yKPPM2fOKC4uTl27dtVLL72kGjVqSJJGjBihuXPnqm/fvrrnnnt05swZff7551q/fr06duzoPv6LL77Q4sWL9be//U21atXSK6+8or/85S/KysrS5Zdfft7zL0tz585VzZo1lZiYqJo1a+rTTz/VhAkTlJeXpxdffNGj7c8//6wbb7xRd9xxh+Lj4/X+++/r/vvvV7Vq1XT33XeXOE5x16w47777ro4dO6b77rtPDodDL7zwgm699Vb98MMPqlq1qu677z7t379fK1eu1Ntvv+1xrGVZuvnmm7V69WqNGDFCUVFRWr58uR555BH9+OOP551lWLlypf785z+rfv36evDBBxUeHq7vvvtOH3/8sR588EFJZ0sV+/btq6ZNm2rixIn65Zdf9Oqrr6pLly7avHlzoXusBg4cqKuuukrPPfecli5dqmeeeUZ169bVa6+9pv/5n//R888/r/nz52vcuHHq1KmTrr/++mLj++STT3TmzBn99a9/LfE8zvnqq6+0bt06DRo0SFdccYV2796tWbNmqUePHvp//+//FfpZjBkzRuHh4Zo0aZLWr1+v119/XbVr19a6devUsGFDPfvss1q2bJlefPFFtWnTRkOGDDlvDHfccYeaNGmi5ORkbd68WW+++aZCQ0P1/PPPe7S7kN+Nb7/9Vt26dVNQUJAeffRRVa1aVa+99pp69OihtWvXXtA9cAB+w+peBrEAlKuNGzdakqyVK1dalmVZLpfLuuKKK6wHH3zQ3cblcll33nmn1bFjRysjI8Nq1KiR9cMPP1i9evWyevXqZR07dqzY/lesWGH5+/tb/v7+VkxMjPXoo49ay5cvtwoKCjza7d692/L397f+8Y9/eOz/5ptvrCpVqnjsP3HiRKFxkpOTLYfDYe3Zs8e9b+jQoZYk6/HHH/do++mnn1qSrAceeKBQPy6Xy/3fkqxq1apZO3fudO/773//a0myXn311WLPuTQkWaNHjy6xTVHnfd9991k1atSwTp486d7XvXt3S5I1ZcoU975Tp05ZUVFRVmhoqPva79q1y5JkzZkzx92uuGt27r1GjRq5X587/vLLL7d++ukn9/4PP/zQkmT93//9n3vf6NGjraK+0pcsWWJJsp555hmP/bfddpvlcDg8rv0fnTlzxmrSpInVqFEj6+eff/Z47/c/x3PnfeTIEfe+//73v5afn581ZMgQ976kpCRLknXvvfd6jHHFFVdYDofDeu6559z7f/75Z6t69erW0KFDi43PsizroYcesiRZW7ZsKbHdOUX9jNPT0y1J1r/+9S/3vjlz5liSrLi4OI9zjYmJsRwOhzVq1KhC59C9e3ePfiVZSUlJ7tfnzv/uu+/2aDdgwADr8ssvL3Tshfxu9O/f36pWrZqVmZnp3rd//36rVq1a1vXXX3+eqwHgnNzcXEuStXZrA2vTnkijtrVbG1iSrNzcXLsvk09R7gWUs/nz5yssLEw9e/aUdHZ2ZODAgVqwYIG7jMjhcGjYsGFav3692rdvL0lq0qSJVqxY4f6rfnF69eql9PR03Xzzzfrvf/+rF154QXFxcWrQoIE++ugjd7vFixfL5XLpjjvu0OHDh91beHi4rrzySq1evdrdtnr16u7/zs/P1+HDh9W5c2dZlqUtW7YUiuH+++/3eP2///u/cjgcHvfdnPPH2aHY2Fg1a9bM/bpdu3YKCgrSDz/8UOw5l5ffn/exY8d0+PBhdevWTSdOnNC2bds82lapUkX33Xef+3W1atV033336eDBg9q0adN5x/rjNSvJwIEDVadOHffrbt26SdIFXaNly5bJ399fDzzwgMf+hx9+WJZl6ZNPPin22C1btmjXrl0aO3ZsoXLCcz/HAwcOKCMjQ8OGDVPdunXd77dr1069evXSsmXLCvV7zz33uP/b399fHTt2lGVZGjFihHt/7dq11bJly/OeY15eniSpVq1aJbY75/c/49OnT+vIkSNq3ry5ateurc2bNxdqP2LECI/PbHR0dKFYz53DhX5mR40a5fG6W7duOnLkiPtczjnf74bT6dSKFSvUv39/NW3a1N2ufv36uvPOO/XFF18U6hMALhUkKUA5cjqdWrBggXr27Kldu3Zp586d2rlzp6Kjo5WTk6O0tDR32169ehVa2UuS+vTpc95xOnXqpMWLF+vnn3/Whg0bNH78eB07dky33Xab/t//+3+SpB07dsiyLF155ZUKCQnx2L777juPm+yzsrLc/+isWbOmQkJC1L17d0lSbm6ux9hVqlQptGpSZmamIiIiPP7RWpyGDRsW2lenTh39/PPPJR6XnZ3tsf3xfpnS+PbbbzVgwAAFBwcrKChIISEhuuuuuyQVPu+IiIhCCwS0aNFCkgrd3/BHRV2zkvzxGp1LWM53jaSz92BEREQU+kf8VVdd5X6/OJmZmZJUYhnhueNbtmxZ6L2rrrpKhw8fVn5+vsf+P55PcHCwAgMDVa9evUL7z3eOQUFBks4mlRfil19+0YQJE9z359SrV08hISE6evRooZ9xcbFKUmRkpNexFtdncT/P8/1uHDp0SCdOnCj22rtcrkL3mwEomVN+Rm6VEfekAOXo008/1YEDB7RgwQItWLCg0Pvz589X7969C+0/3z9yi1OtWjV16tRJnTp1UosWLTR8+HAtWrRISUlJcrlccjgc+uSTT4pMhs7N1jidTvXq1Us//fSTHnvsMbVq1UqXXXaZfvzxRw0bNqzQErkBAQHy8yv9F2hRsUg6703d9evX93g9Z84cDRs2rNRxHD16VN27d1dQUJCefvppNWvWTIGBgdq8ebMee+yxUi8NXBRvr1lpr5Gpijqf0p5jq1atJJ19VlBUVNR5xx4zZozmzJmjsWPHKiYmRsHBwXI4HBo0aFCRP+Pi4ipq/4X+PC70XCvazx0AvEGSApSj+fPnKzQ01L3y0u8tXrxYH3zwgVJSUjxKUMrKuZvTDxw4IElq1qyZLMtSkyZN3H/xL8o333yj77//XvPmzfO4CXjlypUXPHazZs20fPly/fTTTxc0m1Iaf4zn6quvvqj+1qxZoyNHjmjx4sUeN2rv2rWryPb79+8vtNzy999/L8n7h3GWheIWWWjUqJFWrVqlY8eOecymnCtfa9SoUbF9nis12rp1q2JjY4vtX5K2b99e6L1t27apXr165bokdd++feXv76933nnngm6e//e//62hQ4d6rBx28uRJHT16tNxiLC8hISGqUaNGsdfez8+v0IwPAFwqKuf8EeADv/zyixYvXqw///nPuu222wptCQkJOnbsmMd9I6WxevXqIv+yeu5egHOlILfeeqv8/f01adKkQu0ty9KRI0ck/fbX29+3sSyr0JKzJfnLX/4iy7I0adKkQu+V1V+BY2NjPbY/zqx4q6jzLigo0D//+c8i2585c0avvfaaR9vXXntNISEh6tChw0XFUhrnEoE//mP7xhtvlNPp1IwZMzz2T5s2TQ6HQ3379i22zz/96U9q0qSJpk+fXqjfc9epfv36ioqK0rx58zzabN26VStWrNCNN95Y+pO6AJGRkRo5cqRWrFihV199tdD7LpdLU6ZM0b59+ySd/Tn/8TP46quvFrvMtMn8/f3Vu3dvffjhhx6zrzk5OXr33XfVtWtXdzkcgAtj/fowR5M2i4c5AihLH330kY4dO6abb765yPevu+46hYSEaP78+Ro4cGCpxxkzZoxOnDihAQMGqFWrViooKNC6deu0cOFCNW7cWMOHD5d09q/izzzzjMaPH6/du3erf//+qlWrlnbt2qUPPvhA9957r8aNG6dWrVqpWbNmGjdunH788UcFBQXpf//3fy+43l6Sevbsqb/+9a965ZVXtGPHDvXp00cul0uff/65evbsqYSEhFKf78XYuHGjnnnmmUL7e/Tooc6dO6tOnToaOnSoHnjgATkcDr399tvFJlURERF6/vnntXv3brVo0UILFy5URkaGXn/9dVseynguMXrggQcUFxcnf39/DRo0SP369VPPnj3197//Xbt371b79u21YsUKffjhhxo7dqzHjdl/5Ofnp1mzZqlfv36KiorS8OHDVb9+fW3btk3ffvutli9fLkl68cUX1bdvX8XExGjEiBHuJYiDg4M9nhNSXqZMmaLMzEw98MAD7j8M1KlTR1lZWVq0aJG2bdumQYMGSZL+/Oc/6+2331ZwcLBat26t9PR0rVq1yufLXZeVZ555RitXrlTXrl31t7/9TVWqVNFrr72mU6dO6YUXXrA7PAAoNZIUoJzMnz9fgYGB6tWrV5Hv+/n56aabbtL8+fN15MiRUv8j6aWXXtKiRYu0bNkyvf766yooKFDDhg31t7/9TU8++aTHqkyPP/64WrRooWnTprlnOSIjI9W7d293MlW1alX93//9nx544AElJycrMDBQAwYMUEJCgnvlsQsxZ84ctWvXTm+99ZYeeeQRBQcHq2PHjurcuXOpzrMsfPnll/ryyy8L7Z88ebK6du2qjz/+WA8//LCefPJJ1alTR3fddZduuOEGxcXFFTqmTp06mjdvnsaMGaM33nhDYWFhmjFjhkaOHOmLUynk1ltv1ZgxY7RgwQK98847sixLgwYNkp+fnz766CNNmDBBCxcu1Jw5c9S4cWO9+OKLevjhh8/bb1xcnFavXq1JkyZpypQpcrlcatasmcd5xsbGKjU1VUlJSZowYYKqVq2q7t276/nnn1eTJk3K87QlSTVq1NAnn3yiuXPnat68eZo8ebJOnDihiIgI/c///I/mz5+vBg0aSJJefvll+fv7a/78+Tp58qS6dOmiVatWFfkzvhRcffXV+vzzzzV+/HglJyfL5XIpOjpa77zzDs9IAXBJc1jcgQcAAIBKLC8vT8HBwVrxTSNdVsusuyHyj7nUu+0e5ebmVqoSTrN+CgAAAAAqPZIUAAAAAEbhnhQAAABAktPyk9My62/4zkp6Y4ZZPwUAAAAAlR5JCgAAAACjUO4FAAAASHLJIZdhf8N3qXLWe5n1UwAAAABQ6VWImRSXy6X9+/erVq1acjgcdocDAACAP7AsS8eOHVNERIT8/Pg7OUpWIZKU/fv3KzIy0u4wAAAAcB579+7VFVdcYXcYRXLKIafM+oO3afH4SoVIUmrVqiVJaveXp+RfNdDn4/cck+7zMSu7f39+nW1j//fW2baNPaBFW9vGBiqLD77/xrax7fwdt/O87cT3qu+c0Wl9oWXuf7cBJakQScq5Ei//qoHyr+b7JCWgZlWfj1nZ+QX6/ud8TlAt+6aoqzj4rAHlrbL+jtt53nbie9WHfr3/m9J8XIgKkaQAAAAAF8vMhzmyuhcAAAAA2I4kBQAAAIBRKPcCAAAAdO5hjmbdM2NaPL7CTAoAAAAAo5CkAAAAADAK5V4AAACAJJf85DTsb/gusboXAAAAANiu3JKUmTNnqnHjxgoMDFR0dLQ2bNhQYvtFixapVatWCgwMVNu2bbVs2bLyCg0AAACAwcolSVm4cKESExOVlJSkzZs3q3379oqLi9PBgweLbL9u3TrFx8drxIgR2rJli/r376/+/ftr69at5REeAAAAUMi5hzmatlVG5XLWU6dO1ciRIzV8+HC1bt1aKSkpqlGjhmbPnl1k+5dffll9+vTRI488oquuukqTJ0/Wn/70J82YMaM8wgMAAABgsDJPUgoKCrRp0ybFxsb+Noifn2JjY5Wenl7kMenp6R7tJSkuLq7Y9qdOnVJeXp7HBgAAAKBiKPMk5fDhw3I6nQoLC/PYHxYWpuzs7CKPyc7O9qp9cnKygoOD3VtkZGTZBA8AAIBKyyU/I7fK6JI86/Hjxys3N9e97d271+6QAAAAAJSRMn9OSr169eTv76+cnByP/Tk5OQoPDy/ymPDwcK/aBwQEKCAgoGwCBgAAAGCUMp9JqVatmjp06KC0tDT3PpfLpbS0NMXExBR5TExMjEd7SVq5cmWx7QEAAICy5rQcRm6VUbk8cT4xMVFDhw5Vx44dde2112r69OnKz8/X8OHDJUlDhgxRgwYNlJycLEl68MEH1b17d02ZMkU33XSTFixYoI0bN+r1118vj/AAAAAAGKxckpSBAwfq0KFDmjBhgrKzsxUVFaXU1FT3zfFZWVny8/ttEqdz585699139eSTT+qJJ57QlVdeqSVLlqhNmzblER4AAAAAg5VLkiJJCQkJSkhIKPK9NWvWFNp3++236/bbby+vcAAAAIASOeUnp2HrSjll2R2CLcz6KQAAAACo9EhSAAAAABil3Mq9AAAAgEuJy/KTyzLrb/gui3IvAAAAALAdSQoAAAAAo1DuBQAAAIjVvUxi1k8BAAAAQKVHkgIAAADAKBWq3OtIlCW/QN9Pib23uovPxzRBfM//2B2CLZotHGXf4NPsGxqoLOIi7I7AHnERUbaNvXx/hm1jA7/nkuS0HHaH4cFldwA2YSYFAAAAgFFIUgAAAAAYpUKVewEAAACl5ZKfXIb9Dd+0eHylcp41AAAAAGORpAAAAAAwCuVeAAAAgCSn5SenZdbf8E2Lx1cq51kDAAAAMBZJCgAAAACjUO4FAAAASHLJIZdMe5ijWfH4CjMpAAAAAIxCkgIAAADAKJR7AQAAAGJ1L5NUzrMGAAAAYCySFAAAAABGodwLAAAAkOSUn5yG/Q3ftHh8pXKeNQAAAABjkaQAAAAAMArlXgAAAIAkl+WQyzLr4YmmxeMrzKQAAAAAMApJCgAAAACjUO4FAAAASHIZuLqXy7B4fKVynjUAAAAAY5GkAAAAADAK5V4AAACAJJflJ5dl1t/wTYvHVyrnWQMAAAAwFkkKAAAAAKNQ7gUAAABIcsohp8x6eKJp8fgKMykAAAAAjEKSAgAAAMAolHsBAAAAYnUvk5Ck4JIU3/M/to39VZS/bWMv359h29jNFo6ybWxUPpkDU2wbO+6hKNvGrqziIqJsG9vO71U7zxswXeVMzQAAAAAYi5kUAAAAQJJT5q2m5bQ7AJswkwIAAADAKCQpAAAAAIxCuRcAAAAgVvcySeU8awAAAADGIkkBAAAAYBTKvQAAAABJTstPTsPKq0yLx1cq51kDAAAAMBZJCgAAAACjUO4FAAAASLLkkMuwhzlahsXjK8ykAAAAADAKSQoAAABQgcycOVONGzdWYGCgoqOjtWHDhhLbT58+XS1btlT16tUVGRmphx56SCdPnvRRtEWj3AsAAABQxVjda+HChUpMTFRKSoqio6M1ffp0xcXFafv27QoNDS3U/t1339Xjjz+u2bNnq3Pnzvr+++81bNgwORwOTZ06taxOw2tm/RQAAAAAlNrUqVM1cuRIDR8+XK1bt1ZKSopq1Kih2bNnF9l+3bp16tKli+688041btxYvXv3Vnx8/HlnX8obSQoAAABQARQUFGjTpk2KjY117/Pz81NsbKzS09OLPKZz587atGmTOyn54YcftGzZMt14440+ibk4lHsBAAAAklyWQy7LrNW0zsWTl5fnsT8gIEABAQEe+w4fPiyn06mwsDCP/WFhYdq2bVuR/d955506fPiwunbtKsuydObMGY0aNUpPPPFEGZ6F95hJAQAAAAwXGRmp4OBg95acnFwm/a5Zs0bPPvus/vnPf2rz5s1avHixli5dqsmTJ5dJ/6XFTAoAAABguL179yooKMj9+o+zKJJUr149+fv7Kycnx2N/Tk6OwsPDi+z3qaee0l//+lfdc889kqS2bdsqPz9f9957r/7+97/Lz8+eOQ1mUgAAAABJTvkZuUlSUFCQx1ZUklKtWjV16NBBaWlp7n0ul0tpaWmKiYkp8pxPnDhRKBHx9/eXJFmWVVaX1mvMpAAAAAAVRGJiooYOHaqOHTvq2muv1fTp05Wfn6/hw4dLkoYMGaIGDRq4y8X69eunqVOn6pprrlF0dLR27typp556Sv369XMnK3YgSQEAAAAqiIEDB+rQoUOaMGGCsrOzFRUVpdTUVPfN9FlZWR4zJ08++aQcDoeefPJJ/fjjjwoJCVG/fv30j3/8w65TkESSAgAAAEgye3UvbyQkJCghIaHI99asWePxukqVKkpKSlJSUlJpwis33JMCAAAAwCgkKQAAAACMQrkXAAAAIMklP7kM+xu+afH4SpmfdXJysjp16qRatWopNDRU/fv31/bt20s8Zu7cuXI4HB5bYGBgWYcGAAAA4BJQ5knK2rVrNXr0aK1fv14rV67U6dOn1bt3b+Xn55d4XFBQkA4cOODe9uzZU9ahAQAAALgElHm5V2pqqsfruXPnKjQ0VJs2bdL1119f7HEOh6PYJ2ECAAAA5c1pOeQ0bHUv0+LxlXIvcsvNzZUk1a1bt8R2x48fV6NGjRQZGalbbrlF3377bXmHBgAAAMBA5XrjvMvl0tixY9WlSxe1adOm2HYtW7bU7Nmz1a5dO+Xm5uqll15S586d9e233+qKK64o1P7UqVM6deqU+3VeXp4k6b+3zlZQLd/fXNRs4Sifj2mC91Z3sW3s+J7/sW3sndOus23suAjbhpam2Tg2Kh07v1eba71tY8P34iKi7A4BQBHKNUkZPXq0tm7dqi+++KLEdjExMYqJiXG/7ty5s6666iq99tprmjx5cqH2ycnJmjRpUpnHCwAAgMqrojzMsSIot2mHhIQEffzxx1q9enWRsyElqVq1qq655hrt3LmzyPfHjx+v3Nxc97Z3796yCBkAAACAAcp8JsWyLI0ZM0YffPCB1qxZoyZNmnjdh9Pp1DfffKMbb7yxyPcDAgIUEBBwsaECAAAAMFCZJymjR4/Wu+++qw8//FC1atVSdna2JCk4OFjVq1eXJA0ZMkQNGjRQcnKyJOnpp5/Wddddp+bNm+vo0aN68cUXtWfPHt1zzz1lHR4AAABQJMvyk8sy6+GJlmHx+EqZJymzZs2SJPXo0cNj/5w5czRs2DBJUlZWlvz8frvgP//8s0aOHKns7GzVqVNHHTp00Lp169S6deuyDg8AAACA4cql3Ot81qxZ4/F62rRpmjaNpYMAAAAAlPPqXgAAAMClwimHnDJrNS3T4vGVylnkBgAAAMBYJCkAAAAAjEK5FwAAACDJZZn38ETX+W/3rpCYSQEAAABgFJIUAAAAAEah3AsAAACQ5DLwYY6mxeMrlfOsAQAAABiLJAUAAACAUSj3AgAAACS55JDLsIcnmhaPrzCTAgAAAMAoJCkAAAAAjEK5FwAAACDJaTnkNOxhjqbF4yvMpAAAAAAwCkkKAAAAAKNQ7gUAAACIhzmapHKeNQAAAABjkaQAAAAAMArlXgAAAIB+fZijYatp8TBHAAAAADAASQoAAAAAo1DuBQAAAEiy5DCuvMoyLB5fYSYFAAAAgFFIUgAAAAAYpUKVew1o0VZVHFV9P/A03w8J+8T3/I9tY783rYttYzd/aL1tY++cdp1tY6PyWb4/w7ax4yKibBsbgOSyDFzdy7B4fIWZFAAAAABGIUkBAAAAYJQKVe4FAAAAlJbL8pPLMutv+KbF4yuV86wBAAAAGIskBQAAAIBRKPcCAAAAxOpeJmEmBQAAAIBRSFIAAAAAGIVyLwAAAECSSw65ZFZ5lWnx+AozKQAAAACMQpICAAAAwCiUewEAAABidS+TMJMCAAAAwCgkKQAAAACMQrkXAAAAIMq9TMJMCgAAAACjkKQAAAAAMArlXgAAAIAo9zIJMykAAAAAjEKSAgAAAMAolHsBAAAAotzLJMykAAAAADAKSQoAAAAAo1DuBQAAAEiyJLlkVnmVZXcANmEmBQAAAIBRSFIAAAAAGIVyLwAAAECs7mUSZlIAAAAAGIUkBQAAAIBRKPcCAAAARLmXSUhSLnGZA1NsG7vZwlG2jf3e6i62jR3f8z+2jW3nzzvuoSjbxoY9Kuv3i51ja5p9Q8P3mj+03u4QAGNR7gUAAADAKMykAAAAAKLcyyTMpAAAAAAwCkkKAAAAAKNQ7gUAAACIci+TMJMCAAAAwCgkKQAAAACMQrkXAAAAIMmyHLIMK68yLR5fYSYFAAAAgFFIUgAAAAAYhXIvAAAAQJJLDrlkVnmVafH4SpnPpEycOFEOh8Nja9WqVYnHLFq0SK1atVJgYKDatm2rZcuWlXVYAAAAAC4R5VLudfXVV+vAgQPu7Ysvvii27bp16xQfH68RI0Zoy5Yt6t+/v/r376+tW7eWR2gAAAAADFcu5V5VqlRReHj4BbV9+eWX1adPHz3yyCOSpMmTJ2vlypWaMWOGUlJSyiM8AAAAoBAe5miOcplJ2bFjhyIiItS0aVMNHjxYWVlZxbZNT09XbGysx764uDilp6cXe8ypU6eUl5fnsQEAAACoGMo8SYmOjtbcuXOVmpqqWbNmadeuXerWrZuOHTtWZPvs7GyFhYV57AsLC1N2dnaxYyQnJys4ONi9RUZGluk5AAAAALBPmZd79e3b1/3f7dq1U3R0tBo1aqT3339fI0aMKJMxxo8fr8TERPfrvLw8EhUAAABcFB7maI5yX4K4du3aatGihXbu3Fnk++Hh4crJyfHYl5OTU+I9LQEBAQoICCjTOAEAAACYodwf5nj8+HFlZmaqfv36Rb4fExOjtLQ0j30rV65UTExMeYcGAAAAwEBlPpMybtw49evXT40aNdL+/fuVlJQkf39/xcfHS5KGDBmiBg0aKDk5WZL04IMPqnv37poyZYpuuukmLViwQBs3btTrr79e1qEBAAAAxWJ1L3OUeZKyb98+xcfH68iRIwoJCVHXrl21fv16hYSESJKysrLk5/fbBE7nzp317rvv6sknn9QTTzyhK6+8UkuWLFGbNm3KOjQAAAAAl4AyT1IWLFhQ4vtr1qwptO/222/X7bffXtahAAAAALgElfuN8wAAAMClgNW9zFHuN84DAAAAgDdIUgAAAAAYhXIvAAAAQGdLq0xbTYtyLwAAAAAwAEkKAAAAAKNQ7gUAAABIsiRZlt1ReDIsHJ9hJgUAAACAUZhJucQ1WzjK7hCActf8ofW2jb1z2nW2jW03O79fMgem2DZ2ZcX/T3yvsn2/uE6elB7/0O4wcIkgSQEAAAAkueSQQ2atpuUyLB5fodwLAAAAgFFIUgAAAAAYhXIvAAAAQGcfnGjawxNNi8dXmEkBAAAAYBSSFAAAAABGodwLAAAAkOSyHHIYVl7lMiweX2EmBQAAAIBRSFIAAAAAGIVyLwAAAECSZZ3dTGJaPL7CTAoAAAAAo5CkAAAAADAK5V4AAACAeJijSZhJAQAAAGAUkhQAAAAARqHcCwAAABDlXiZhJgUAAACAUUhSAAAAABiFci8AAABAkstyyGFYeZXLsHh8hZkUAAAAAEYhSQEAAABgFMq9AAAAAEmWdXYziWnx+AozKQAAAACMQpICAAAAwCiUewEAAAA6V+5l1mpalHsBAAAAgAFIUgAAAAAYhXIvAAAAQGdLvcwr9zIrHl9hJgUAAACAUUhSAAAAABiFcq9LXPOH1ts29s5p19k2dmUVFxFl29jL92fYNrad5w17NFs4yraxMwem2Da2rZ/1afYNDd+z498PZ6zTyvL5qN6xft1MYlo8vsJMCgAAAACjkKQAAAAAMArlXgAAAIBY3cskzKQAAAAAMApJCgAAAACjUO4FAAAASCzvZRBmUgAAAAAYhSQFAAAAgFEo9wIAAAAkycDVvWRaPD7CTAoAAAAAo5CkAAAAADAKSQoAAAAgybLM3Lw1c+ZMNW7cWIGBgYqOjtaGDRtKbH/06FGNHj1a9evXV0BAgFq0aKFly5aV8iqWDe5JAQAAACqIhQsXKjExUSkpKYqOjtb06dMVFxen7du3KzQ0tFD7goIC9erVS6Ghofr3v/+tBg0aaM+ePapdu7bvg/8dkhQAAACggpg6dapGjhyp4cOHS5JSUlK0dOlSzZ49W48//nih9rNnz9ZPP/2kdevWqWrVqpKkxo0b+zLkIlHuBQAAAEiyfl3dy7RNkvLy8jy2U6dOFYq/oKBAmzZtUmxsrHufn5+fYmNjlZ6eXuQ5f/TRR4qJidHo0aMVFhamNm3a6Nlnn5XT6Syfi3yBSFIAAAAAw0VGRio4ONi9JScnF2pz+PBhOZ1OhYWFeewPCwtTdnZ2kf3+8MMP+ve//y2n06lly5bpqaee0pQpU/TMM8+Uy3lcKMq9AAAAAMPt3btXQUFB7tcBAQFl0q/L5VJoaKhef/11+fv7q0OHDvrxxx/14osvKikpqUzGKA2SFAAAAEA6++BE0x6e+Gs8QUFBHklKUerVqyd/f3/l5OR47M/JyVF4eHiRx9SvX19Vq1aVv7+/e99VV12l7OxsFRQUqFq1ahd5AqVDuRcAAABQAVSrVk0dOnRQWlqae5/L5VJaWppiYmKKPKZLly7auXOnXC6Xe9/333+v+vXr25agSCQpAAAAQIWRmJioN954Q/PmzdN3332n+++/X/n5+e7VvoYMGaLx48e7299///366aef9OCDD+r777/X0qVL9eyzz2r06NF2nYIkyr0AAAAASaV/eGJ58jaegQMH6tChQ5owYYKys7MVFRWl1NRU9830WVlZ8vP7bZ4iMjJSy5cv10MPPaR27dqpQYMGevDBB/XYY4+V5Wl4jSQFAAAAqEASEhKUkJBQ5Htr1qwptC8mJkbr168v56i8Q7kXAAAAAKMwkwIAAABIkvXrZhLT4vERZlIAAAAAGIUkBQAAAIBRyjxJady4sRwOR6GtuGXM5s6dW6htYGBgWYcFAAAAlMiyHEZulVGZ35Py1Vdfyel0ul9v3bpVvXr10u23317sMUFBQdq+fbv7tcNROX8YAAAAAMohSQkJCfF4/dxzz6lZs2bq3r17scc4HA6Fh4eXdSgAAAAALkHlek9KQUGB3nnnHd19990lzo4cP35cjRo1UmRkpG655RZ9++235RkWAAAAUDTLsK2SKtcliJcsWaKjR49q2LBhxbZp2bKlZs+erXbt2ik3N1cvvfSSOnfurG+//VZXXHFFkcecOnVKp06dcr/Oy8sr69AvGTunXWd3CPCh5fszbBs7LiLKtrFR+WQOTLFtbDs/63b+jjdbyP9PAJijXGdS3nrrLfXt21cRERHFtomJidGQIUMUFRWl7t27a/HixQoJCdFrr71W7DHJyckKDg52b5GRkeURPgAAAAAblFuSsmfPHq1atUr33HOPV8dVrVpV11xzjXbu3Flsm/Hjxys3N9e97d2792LDBQAAQCVn9yperO71m3JLUubMmaPQ0FDddNNNXh3ndDr1zTffqH79+sW2CQgIUFBQkMcGAAAAoGIolyTF5XJpzpw5Gjp0qKpU8bztZciQIRo/frz79dNPP60VK1bohx9+0ObNm3XXXXdpz549Xs/AAAAAAKgYyuXG+VWrVikrK0t33313ofeysrLk5/dbbvTzzz9r5MiRys7OVp06ddShQwetW7dOrVu3Lo/QAAAAgKKZuKKWafH4SLkkKb1795ZlFX1F16xZ4/F62rRpmjZtWnmEAQAAAOASVK6rewEAAACAt8r1OSkAAADApcPx62YS0+LxDWZSAAAAABiFJAUAAACAUSj3AgAAACRW9zIIMykAAAAAjEKSAgAAAMAolHsBAAAAEuVeBmEmBQAAAIBRmEkBAAAAcFHy8/O1du1aZWVlqaCgwOO9Bx54wOv+SFIAAAAASbIcZzeTmBZPEbZs2aIbb7xRJ06cUH5+vurWravDhw+rRo0aCg0NLVWSQrkXAAAAgFJ76KGH1K9fP/3888+qXr261q9frz179qhDhw566aWXStUnSQoAAACAUsvIyNDDDz8sPz8/+fv769SpU4qMjNQLL7ygJ554olR9kqQAAAAAkizLzM10VatWlZ/f2bQiNDRUWVlZkqTg4GDt3bu3VH1yTwoAAACAUrvmmmv01Vdf6corr1T37t01YcIEHT58WG+//bbatGlTqj6ZSQEAAABQas8++6zq168vSfrHP/6hOnXq6P7779ehQ4f0+uuvl6pPZlIAAAAAiYc5llLHjh3d/x0aGqrU1NSL7pOZFAAAAABGYSYFAAAAgFeuueYaORwX9gyXzZs3e90/SQoAAAAg8TBHL/Tv379c+ydJAQAAAOCVpKSkcu2fe1IAAAAAGIWZFAAAAECSwzq7mcS0eIri5+dX4v0pTqfT6z5JUgAAAACU2gcffODx+vTp09qyZYvmzZunSZMmlarPCpWkfPD9NwqqZUcFW4YNY9qv2cJRdocAoBxlDkyxbey4iCjbxl6+P8O2se08b02zb2gAl7Zbbrml0L7bbrtNV199tRYuXKgRI0Z43Sf3pAAAAADSbw9zNG27RF133XVKS0sr1bEkKQAAAADK1C+//KJXXnlFDRo0KNXxFarcCwAAAIBv1alTx+PGecuydOzYMdWoUUPvvPNOqfokSQEAAAAkHuZYStOmTfNIUvz8/BQSEqLo6GjVqVOnVH2SpAAAAAAotWHDhpV5nyQpAAAAALzy9ddfX3Dbdu3aed0/SQoAAAAgmbmalmnx/CoqKkoOh0OWVXKADoeDhzkCAAAAKH+7du0q1/5JUgAAAAB4pVGjRuXaP89JAQAAACT7H9p4CT/M8e2331aXLl0UERGhPXv2SJKmT5+uDz/8sFT9kaQAAAAAuGDLly9Xbm6u+/WsWbOUmJioG2+8UUePHnXfg1K7dm1Nnz69VGOQpAAAAAC4YNnZ2erSpYv27dsnSXr11Vf1xhtv6O9//7v8/f3d7Tp27KhvvvmmVGNwTwoAAAAgmVleZVo8koYOHaqaNWsqLi5O3377rXbt2qVrrrmmULuAgADl5+eXagxmUgAAAAB45S9/+Ys++ugjSVKTJk2UkZFRqE1qaqquuuqqUvXPTAoAAAAArzVr1kySlJiYqNGjR+vkyZOyLEsbNmzQe++9p+TkZL355pul6pskBQAAAJAky3F2M4lp8RThnnvuUfXq1fXkk0/qxIkTuvPOOxUREaGXX35ZgwYNKlWfJCkAAAAALsrgwYM1ePBgnThxQsePH1doaOhF9UeSAgAAAKDUdu3apTNnzujKK69UjRo1VKNGDUnSjh07VLVqVTVu3NjrPrlxHgAAAJDksMzcTDds2DCtW7eu0P4vv/xSw4YNK1WfJCkAAAAASm3Lli3q0qVLof3XXXddkat+XQiSFAAAAACl5nA4dOzYsUL7c3Nz3U+f9xZJCgAAACD99jBH0zbDXX/99UpOTvZISJxOp5KTk9W1a9dS9cmN8wAAAABK7fnnn9f111+vli1bqlu3bpKkzz//XHl5efr0009L1SczKQAAAABKrXXr1vr66691xx136ODBgzp27JiGDBmibdu2qU2bNqXqk5kUAAAAABclIiJCzz77bJn1x0wKAAAAAKOQpAAAAAAwCuVeAAAAgCSHzHt4osPuAGzCTAoAAAAAo5CkAAAAALgoZ86c0apVq/Taa6+5H+y4f/9+HT9+vFT9VahyrwEt2qqKo6rdYVQe0+wOoPJ58mBb28beOe0628a2U/OH1ts2tt3XvNnCUfYNbuv3S4adg9vGzs+6nez+PbPL8v0ZPh8z75hLdVr4fFj4wJ49e9SnTx9lZWXp1KlT6tWrl2rVqqXnn39ep06dUkpKitd9MpMCAAAASJLlMHMz3IMPPqiOHTvq559/VvXq1d37BwwYoLS0tFL1WaFmUgAAAAD41ueff65169apWrVqHvsbN26sH3/8sVR9MpMCAAAAoNRcLpecTmeh/fv27VOtWrVK1SdJCgAAACBJlqGb4Xr37q3p06e7XzscDh0/flxJSUm68cYbS9Un5V4AAAAASm3KlCmKi4tT69atdfLkSd15553asWOH6tWrp/fee69UfZKkAAAAACi1K664Qv/973+1YMECff311zp+/LhGjBihwYMHe9xI7w2SFAAAAEAys7zKtHiKUaVKFd11111l11+Z9QQAAACgUvjoo48uuO3NN9/sdf8kKQAAAAC80r9/f4/XDodDlmUV2iepyJW/zofVvQAAAABJDsvMzUQul8u9rVixQlFRUfrkk0909OhRHT16VJ988on+9Kc/KTU1tVT9M5MCAAAAoNTGjh2rlJQUde3a1b0vLi5ONWrU0L333qvvvvvO6z69nkn57LPP1K9fP0VERMjhcGjJkiUe71uWpQkTJqh+/fqqXr26YmNjtWPHjvP2O3PmTDVu3FiBgYGKjo7Whg0bvA0NAAAAgI9lZmaqdu3ahfYHBwdr9+7dperT6yQlPz9f7du318yZM4t8/4UXXtArr7yilJQUffnll7rssssUFxenkydPFtvnwoULlZiYqKSkJG3evFnt27dXXFycDh486G14AAAAQOnY/dDGS/Rhjp06dVJiYqJycnLc+3JycvTII4/o2muvLVWfXicpffv21TPPPKMBAwYUes+yLE2fPl1PPvmkbrnlFrVr107/+te/tH///kIzLr83depUjRw5UsOHD1fr1q2VkpKiGjVqaPbs2d6GBwAAAMCHZs+erQMHDqhhw4Zq3ry5mjdvroYNG+rHH3/UW2+9Vao+y/SelF27dik7O1uxsbHufcHBwYqOjlZ6eroGDRpU6JiCggJt2rRJ48ePd+/z8/NTbGys0tPTixzn1KlTOnXqlPt1Xl5eGZ4FAAAAgAvVvHlzff3111q5cqW2bdsmSbrqqqsUGxvrXuHLW2WapGRnZ0uSwsLCPPaHhYW53/ujw4cPy+l0FnnMuZP8o+TkZE2aNKkMIgYAAAB+ZWJ5lWnxFMPhcKh3797q3bt3mfR3SS5BPH78eOXm5rq3vXv32h0SAAAAgDJSpklKeHi4JHncNHPu9bn3/qhevXry9/f36piAgAAFBQV5bAAAAAAqhjJNUpo0aaLw8HClpaW59+Xl5enLL79UTExMkcdUq1ZNHTp08DjG5XIpLS2t2GMAAACAsmb3QxsvpYc5ljev70k5fvy4du7c6X69a9cuZWRkqG7dumrYsKHGjh2rZ555RldeeaWaNGmip556ShEREerfv7/7mBtuuEEDBgxQQkKCJCkxMVFDhw5Vx44dde2112r69OnKz8/X8OHDL/4MAQAAAFxSvE5SNm7cqJ49e7pfJyYmSpKGDh2quXPn6tFHH1V+fr7uvfdeHT16VF27dlVqaqoCAwPdx2RmZurw4cPu1wMHDtShQ4c0YcIEZWdnKyoqSqmpqYVupgcAAABgHqfTqSVLlrifLn/11Vfr5ptvlr+/f6n68zpJ6dGjhyyr+Hknh8Ohp59+Wk8//XSxbYp68mRCQoJ7ZgUAAADwOctxdjOJafEUYefOnbrpppu0b98+tWzZUtLZ1XgjIyO1dOlSNWvWzOs+L8nVvQAAAACY4YEHHlDTpk21d+9ebd68WZs3b1ZWVpaaNGmiBx54oFR9lulzUgAAAABULmvXrtX69etVt25d977LL79czz33nLp06VKqPklSAAAAAImHOZZSQECAjh07Vmj/8ePHVa1atVL1SbkXAAAAgFL785//rHvvvVdffvmlLMuSZVlav369Ro0apZtvvrlUfZKkAAAAACi1V155Rc2aNVNMTIwCAwMVGBioLl26qHnz5nr55ZdL1SflXgAAAIDMfHiiafEUpXbt2vrwww+1Y8cOfffdd3I4HLrqqqvUvHnzUvdJkgIAAADgol155ZXuxMThuLilkyn3AgAAAHBR3nrrLbVp08Zd7tWmTRu9+eabpe6PmRTAS++tLt1SemUhvud/bBu7slq+P8PG0e0cW2q2cJSt4wMoP3ERUT4f84x1WtIPPh/XK6zuVSoTJkzQ1KlTNWbMGMXExEiS0tPT9dBDDykrK6vEh7wXhyQFAAAAQKnNmjVLb7zxhuLj4937br75ZrVr105jxowpVZJCuRcAAACAUjt9+rQ6duxYaH+HDh105syZUvVJkgIAAABIkvXbCl+mbJdCuddf//pXzZo1q9D+119/XYMHDy5Vn5R7AQAAALgob731llasWKHrrrtOkvTll18qKytLQ4YMUWJiorvd1KlTL6g/khQAAAAApbZ161b96U9/kiRlZmZKkurVq6d69epp69at7nbeLEtMkgIAAABIrO5VSqtXry7zPrknBQAAAIBRmEkBAAAA4JVbb71Vc+fOVVBQkG699dYS2y5evNjr/klSAAAAAIlyLy8EBwe77zEJDg4u8/5JUgAAAAB4Zc6cOXr66ac1btw4zZkzp8z7554UAAAAAF6bNGmSjh8/Xi59M5MCAAAA6HcPUDSIafH8nmWVX3DMpAAAAAAoFW+efeINZlIAAAAAlEqLFi3Om6j89NNPXvdLkgIAAACgVCZNmsTqXgAAAADMMWjQIIWGhpZ5v9yTAgAAAMBr5XU/isRMCgAAAHAWD3P0Snmu7kWSAgAAAMBrLper3Pqm3AsAAACAUZhJAQAAAMTDHE3CTAoAAAAAo5CkAAAAADAK5V4AAADAOZW0vMo0zKQAAAAAMApJCgAAAACjUO4FAAAASDzM0SDMpAAAAAAwCkkKAAAAAKNQ7gUAAACIhzmahCQFpZY5MMW2sZstHGXb2Khc7Pys2fk7VpnZ+v0yzb6hmz+03r7BbWTnee+cdp1tYwOmo9wLAAAAgFGYSQEAAAAkVvcyCDMpAAAAAIxCkgIAAADAKJR7AQAAAGJ1L5MwkwIAAADAKCQpAAAAAIxCuRcAAAAgsbqXQZhJAQAAAGAUkhQAAAAARiFJAQAAAKTfyr1M27w0c+ZMNW7cWIGBgYqOjtaGDRsu6LgFCxbI4XCof//+3g9axkhSAAAAgApi4cKFSkxMVFJSkjZv3qz27dsrLi5OBw8eLPG43bt3a9y4cerWrZuPIi0ZSQoAAABQQUydOlUjR47U8OHD1bp1a6WkpKhGjRqaPXt2scc4nU4NHjxYkyZNUtOmTX0YbfFIUgAAAAD99jBH07YLVVBQoE2bNik2Nta9z8/PT7GxsUpPTy/2uKefflqhoaEaMWLExVy+MsUSxAAAAIDh8vLyPF4HBAQoICDAY9/hw4fldDoVFhbmsT8sLEzbtm0rst8vvvhCb731ljIyMso03ovFTAoAAABguMjISAUHB7u35OTki+7z2LFj+utf/6o33nhD9erVK4Moyw4zKQAAAIBk9MMc9+7dq6CgIPfuP86iSFK9evXk7++vnJwcj/05OTkKDw8v1D4zM1O7d+9Wv3793PtcLpckqUqVKtq+fbuaNWtWFmfhNWZSAAAAAMMFBQV5bEUlKdWqVVOHDh2Ulpbm3udyuZSWlqaYmJhC7Vu1aqVvvvlGGRkZ7u3mm29Wz549lZGRocjIyHI9p5IwkwIAAABUEImJiRo6dKg6duyoa6+9VtOnT1d+fr6GDx8uSRoyZIgaNGig5ORkBQYGqk2bNh7H165dW5IK7fc1khQAAABAMrrc60INHDhQhw4d0oQJE5Sdna2oqCilpqa6b6bPysqSn5/5xVQkKQAAAEAFkpCQoISEhCLfW7NmTYnHzp07t+wDKgXz0ygAAAAAlQozKQAAAIC8f3iiL5gWj68wkwIAAADAKCQpAAAAAIxCuRcAAAAgVYjVvSoKr2dSPvvsM/Xr108RERFyOBxasmSJ+73Tp0/rscceU9u2bXXZZZcpIiJCQ4YM0f79+0vsc+LEiXI4HB5bq1atvD4ZAAAAAJc+r5OU/Px8tW/fXjNnziz03okTJ7R582Y99dRT2rx5sxYvXqzt27fr5ptvPm+/V199tQ4cOODevvjiC29DAwAAAFABeF3u1bdvX/Xt27fI94KDg7Vy5UqPfTNmzNC1116rrKwsNWzYsPhAqlRReHi4t+EAAAAAZYLVvcxR7jfO5+bmyuFwqHbt2iW227FjhyIiItS0aVMNHjxYWVlZ5R0aAAAAAAOV643zJ0+e1GOPPab4+HgFBQUV2y46Olpz585Vy5YtdeDAAU2aNEndunXT1q1bVatWrULtT506pVOnTrlf5+XllUv8F2r5/gxbx4dvZQ5MsW3sJw+2tW3s+J7/sW3s91Z3sW1sO8VFRNkbwDR7h7dL84fW2x1CpWPn/0dt/z0DUKRyS1JOnz6tO+64Q5ZladasWSW2/X35WLt27RQdHa1GjRrp/fff14gRIwq1T05O1qRJk8o8ZgAAAFRirO5ljHIp9zqXoOzZs0crV64scRalKLVr11aLFi20c+fOIt8fP368cnNz3dvevXvLImwAAAAABijzJOVcgrJjxw6tWrVKl19+udd9HD9+XJmZmapfv36R7wcEBCgoKMhjAwAAAFAxeJ2kHD9+XBkZGcrIyJAk7dq1SxkZGcrKytLp06d12223aePGjZo/f76cTqeys7OVnZ2tgoICdx833HCDZsyY4X49btw4rV27Vrt379a6des0YMAA+fv7Kz4+/uLPEAAAALgQlqFbJeT1PSkbN25Uz5493a8TExMlSUOHDtXEiRP10UcfSZKioqI8jlu9erV69OghScrMzNThw4fd7+3bt0/x8fE6cuSIQkJC1LVrV61fv14hISHehgcAAADgEud1ktKjRw9ZVvEpXUnvnbN7926P1wsWLPA2DAAAAAAVVLkuQQwAAABcKhy/biYxLR5fKfeHOQIAAACAN0hSAAAAABiFci8AAABAMnM1LdPi8RFmUgAAAAAYhSQFAAAAgFEo9wIAAAAkOayzm0lMi8dXmEkBAAAAYBSSFAAAAABGodwLAAAAkFjdyyDMpAAAAAAwCkkKAAAAAKNQ7gUAAACcU0nLq0zDTAoAAAAAo5CkAAAAADAK5V4AAACAeJijSZhJAQAAAGAUkhQAAAAARqHcCwAAAJB4mKNBmEkBAAAAYBSSFAAAAABGodwLAAAAEKt7mYSZFAAAAABGIUkBAAAAYBTKvcpAXESU3SFUPtPsG7rZwlH2DW6j+J7/qZRjv7e6i21j2y1zYIptY1fW3zPAV3ZOu87nY7pOnpQe/9Dn43qF1b2MwUwKAAAAAKOQpAAAAAAwCuVeAAAAgFjdyyTMpAAAAAAwCkkKAAAAAKNQ7gUAAABIrO5lEGZSAAAAABiFJAUAAACAUSj3AgAAACTKvQzCTAoAAAAAo5CkAAAAADAK5V4AAACAeJijSZhJAQAAAGAUkhQAAAAARqHcCwAAAJBY3csgzKQAAAAAMApJCgAAAACjUO4FAAAASHJYlhyWWfVVpsXjK8ykAAAAADAKSQoAAAAAo1DuBQAAAEis7mUQZlIAAAAAGIUkBQAAAIBRKPcCAAAAJDmss5tJTIvHV5hJAQAAAGAUkhQAAAAARqHcCwAAAJBY3csgzKQAAAAAMApJCgAAAACjUO4FAAAAiNW9TEKSAuCCvLe6i21jx/f8T6Uc+yv52zZ2ZbZ8f4ZtY8dFRNk2dmU9bwBmotwLAAAAgFGYSQEAAAAkVvcyCDMpAAAAAIxCkgIAAADAKJR7AQAAAGJ1L5MwkwIAAADAKCQpAAAAAIxCuRcAAAAgsbqXQZhJAQAAAGAUkhQAAAAARqHcCwAAAPhVZV1NyzRez6R89tln6tevnyIiIuRwOLRkyRKP94cNGyaHw+Gx9enT57z9zpw5U40bN1ZgYKCio6O1YcMGb0MDAAAAUAF4naTk5+erffv2mjlzZrFt+vTpowMHDri39957r8Q+Fy5cqMTERCUlJWnz5s1q37694uLidPDgQW/DAwAAAHCJ87rcq2/fvurbt2+JbQICAhQeHn7BfU6dOlUjR47U8OHDJUkpKSlaunSpZs+erccff9zbEAEAAADvWdbZzSSmxeMj5XLj/Jo1axQaGqqWLVvq/vvv15EjR4ptW1BQoE2bNik2Nva3oPz8FBsbq/T09CKPOXXqlPLy8jw2AAAAABVDmScpffr00b/+9S+lpaXp+eef19q1a9W3b185nc4i2x8+fFhOp1NhYWEe+8PCwpSdnV3kMcnJyQoODnZvkZGRZX0aAAAAAGxS5qt7DRo0yP3fbdu2Vbt27dSsWTOtWbNGN9xwQ5mMMX78eCUmJrpf5+XlkagAAADgojgs81b3Mi0eXyn356Q0bdpU9erV086dO4t8v169evL391dOTo7H/pycnGLvawkICFBQUJDHBgAAAKBiKPckZd++fTpy5Ijq169f5PvVqlVThw4dlJaW5t7ncrmUlpammJiY8g4PAAAAgGG8TlKOHz+ujIwMZWRkSJJ27dqljIwMZWVl6fjx43rkkUe0fv167d69W2lpabrlllvUvHlzxcXFufu44YYbNGPGDPfrxMREvfHGG5o3b56+++473X///crPz3ev9gUAAACUO8vQrRLy+p6UjRs3qmfPnu7X5+4NGTp0qGbNmqWvv/5a8+bN09GjRxUREaHevXtr8uTJCggIcB+TmZmpw4cPu18PHDhQhw4d0oQJE5Sdna2oqCilpqYWupkeAAAAQMXndZLSo0cPWSWs17x8+fLz9rF79+5C+xISEpSQkOBtOAAAAAAqmDJf3QsAAAC4FDlcZzeTmBaPr5T7jfMAAAAA4A2SFAAAAABGodwLAAAAkMxcTcu0eHyEmRQAAAAARiFJAQAAAGAUyr0AAAAASQ7r7GYS0+LxFWZSAAAAABilQs2kfPD9Nwqq5fu8Ky4iyudjVnbNH1pv29g7p11n29iV1Xuru9g2dnzP/9g2tv2ftQybx7dHZf1Or6znvXx/hm1jN1to3+945sAUn4+Zd8ylOo/7fFhcoipUkgIAAACUmmWd3UxiWjw+QrkXAAAAAKOQpAAAAAAwCuVeAAAAgFjdyyTMpAAAAAAwCkkKAAAAAKNQ7gUAAABIkvXrZhLT4vERZlIAAAAAGIUkBQAAAIBRKPcCAAAAxOpeJmEmBQAAAIBRSFIAAAAAGIVyLwAAAECSLOvsZhLT4vERZlIAAAAAGIUkBQAAAIBRKPcCAAAAxOpeJmEmBQAAAIBRSFIAAAAAGIVyLwAAAECSrF83k5gWj48wkwIAAADAKCQpAAAAAIxCuRcAAAAgVvcyCTMpAAAAAIxCkgIAAADAKJR7AQAAAJLkss5uJjEtHh9hJgUAAACAUUhSAAAAABiFci8AAABA4mGOBmEmBQAAAIBRSFIAAAAAGKVClXsNaNFWVRxV7Q4DAMpE5sAUW8ePi4iyb/Bp9g2NysXOz3nmfvt+x+047zPWaUk/+Hxcbzhk3sMTHXYHYBNmUgAAAAAYhSQFAAAAgFEqVLkXAAAAUGqWdXYziWnx+AgzKQAAAACMQpICAAAAwCiUewEAAAA6u7KXcat7GRaPrzCTAgAAAMAoJCkAAAAAjEK5FwAAACBJ1q+bSUyLx0eYSQEAAAAqkJkzZ6px48YKDAxUdHS0NmzYUGzbN954Q926dVOdOnVUp04dxcbGltjeV0hSAAAAgApi4cKFSkxMVFJSkjZv3qz27dsrLi5OBw8eLLL9mjVrFB8fr9WrVys9PV2RkZHq3bu3fvzxRx9H7okkBQAAAJDksCwjN29MnTpVI0eO1PDhw9W6dWulpKSoRo0amj17dpHt58+fr7/97W+KiopSq1at9Oabb8rlciktLa0sLmmpkaQAAAAAFUBBQYE2bdqk2NhY9z4/Pz/FxsYqPT39gvo4ceKETp8+rbp165ZXmBeEG+cBAAAAw+Xl5Xm8DggIUEBAgMe+w4cPy+l0KiwszGN/WFiYtm3bdkHjPPbYY4qIiPBIdOzATAoAAAAgSS5DN0mRkZEKDg52b8nJyWV++s8995wWLFigDz74QIGBgWXevzeYSQEAAAAMt3fvXgUFBblf/3EWRZLq1asnf39/5eTkeOzPyclReHh4if2/9NJLeu6557Rq1Sq1a9eubIK+CMykAAAAAIYLCgry2IpKUqpVq6YOHTp43PR+7ib4mJiYYvt+4YUXNHnyZKWmpqpjx47lEr+3mEkBAAAApFKtplXevI0nMTFRQ4cOVceOHXXttddq+vTpys/P1/DhwyVJQ4YMUYMGDdzlYs8//7wmTJigd999V40bN1Z2drYkqWbNmqpZs2bZnowXSFIAAACACmLgwIE6dOiQJkyYoOzsbEVFRSk1NdV9M31WVpb8/H4rppo1a5YKCgp02223efSTlJSkiRMn+jJ0DyQpAAAAQAWSkJCghISEIt9bs2aNx+vdu3eXf0ClQJICAAAASJL162YS0+LxEW6cBwAAAGAUkhQAAAAARqHcCwAAAJAkyzq7mcS0eHyEmRQAAAAARiFJAQAAAGAUr5OUzz77TP369VNERIQcDoeWLFni8b7D4Shye/HFF4vtc+LEiYXat2rVyuuTAQAAAErLYZm5VUZeJyn5+flq3769Zs6cWeT7Bw4c8Nhmz54th8Ohv/zlLyX2e/XVV3sc98UXX3gbGgAAAIAKwOsb5/v27au+ffsW+354eLjH6w8//FA9e/ZU06ZNSw6kSpVCxwIAAACofMr1npScnBwtXbpUI0aMOG/bHTt2KCIiQk2bNtXgwYOVlZVVnqEBAAAAns6t7mXaVgmV6xLE8+bNU61atXTrrbeW2C46Olpz585Vy5YtdeDAAU2aNEndunXT1q1bVatWrULtT506pVOnTrlf5+XllXnsMNvy/Rm2jR0XYdvQ2jntOvsGh881WzjK3gCm2Td084fW2zd4JWXv92qUbWPbqbKeN3AhyjVJmT17tgYPHqzAwMAS2/2+fKxdu3aKjo5Wo0aN9P777xc5C5OcnKxJkyaVebwAAAAA7Fdu5V6ff/65tm/frnvuucfrY2vXrq0WLVpo586dRb4/fvx45ebmure9e/debLgAAACo5BwuM7fKqNySlLfeeksdOnRQ+/btvT72+PHjyszMVP369Yt8PyAgQEFBQR4bAAAAgIrB6yTl+PHjysjIUEZGhiRp165dysjI8LjRPS8vT4sWLSp2FuWGG27QjBkz3K/HjRuntWvXavfu3Vq3bp0GDBggf39/xcfHexseAAAAgEuc1/ekbNy4UT179nS/TkxMlCQNHTpUc+fOlSQtWLBAlmUVm2RkZmbq8OHD7tf79u1TfHy8jhw5opCQEHXt2lXr169XSEiIt+EBAAAApWPialqmxeMjXicpPXr0kHWei3Xvvffq3nvvLfb93bt3e7xesGCBt2EAAAAAqKDK9TkpAAAAAOCtcl2CGAAAALhkWL9uJjEtHh9hJgUAAACAUUhSAAAAABiFci8AAABAksOy5DBsNS3T4vEVZlIAAAAAGIUkBQAAAIBRKPcCAAAAJB7maBBmUgAAAAAYhSQFAAAAgFEo9wIAAACksw9OdNkdxB9UzmovZlIAAAAAmIUkBQAAAIBRKPcCAAAAxMMcTcJMCgAAAACjkKQAAAAAMArlXgAAAIB0diUt08qrDAvHV5hJAQAAAGAUkhQAAAAARqHcCwAAAJDOlnoZV+5lWDw+wkwKAAAAAKOQpAAAAAAwCuVeAAAAgCS5JDnsDuIPXHYHYA9mUgAAAAAYhZkUADBUfM//2B2CfTLsDqDyefJgW9vG7pThtG3syiq21rc+HzP/mFNr2vt8WFyiSFIAAAAASQ7LksOw1bRMi8dXKPcCAAAAYBSSFAAAAABGodwLAAAAkHiYo0GYSQEAAABgFJIUAAAAAEah3AsAAACQKPcyCDMpAAAAAIxCkgIAAADAKJR7AQAAABLlXgZhJgUAAACAUUhSAAAAABiFci8AAABAklySHHYH8QcuuwOwBzMpAAAAAIxCkgIAAADAKJR7AQAAAJIcliWHYatpmRaPrzCTAgAAAMAoJCkAAAAAjEK5FwAAACDxMEeDMJMCAAAAwCgkKQAAAACMQrkXAAAAIEkuS3IYVl7lMiweH2EmBQAAAIBRSFIAAAAAGIVyLwAAAEBidS+DMJMCAAAAwCgkKQAAAACMQrkXAAAAIEkysNxLpsXjG8ykAAAAADAKSQoAAAAAo1SIci/r12m5t/fOUFBQkM3RwBeO2zj2/x61cXDYYKTdAQBAhZBXNU9SpPvfbUZidS9jVIgk5dixY5KkyMhImyMBAABASY4dO6bg4GC7w4DhKkSSEhERob1796pWrVpyOBxeH5+Xl6fIyEjt3buXmZgLxDUrHa6b97hmpcN18x7XrHS4bt6rrNfMsiwdO3ZMERERdoeCS0CFSFL8/Px0xRVXXHQ/QUFBlerLoixwzUqH6+Y9rlnpcN28xzUrHa6b9yrjNTN+BsVlybjVtFyGxeMj3DgPAAAAwCgkKQAAAACMUiHKvS5WQECAkpKSFBAQYHcolwyuWelw3bzHNSsdrpv3uGalw3XzHtfMYJbr7GYS0+LxEYdl9DpwAAAAQPnKy8tTcHCwYhv+TVX8zEoez7hOaVXWP5Wbm1up7mGi3AsAAACAUSj3AgAAACQe5mgQZlIAAAAAGKXSJCkzZ85U48aNFRgYqOjoaG3YsKHE9osWLVKrVq0UGBiotm3batmyZT6K1AzJycnq1KmTatWqpdDQUPXv31/bt28v8Zi5c+fK4XB4bIGBgT6K2H4TJ04sdP6tWrUq8ZjK/jmTpMaNGxe6bg6HQ6NHjy6yfWX8nH322Wfq16+fIiIi5HA4tGTJEo/3LcvShAkTVL9+fVWvXl2xsbHasWPHefv19nvxUlPSdTt9+rQee+wxtW3bVpdddpkiIiI0ZMgQ7d+/v8Q+S/N7fik532dt2LBhhc6/T58+5+23Mn/WJBX5HedwOPTiiy8W22dF/6wB51MpkpSFCxcqMTFRSUlJ2rx5s9q3b6+4uDgdPHiwyPbr1q1TfHy8RowYoS1btqh///7q37+/tm7d6uPI7bN27VqNHj1a69ev18qVK3X69Gn17t1b+fn5JR4XFBSkAwcOuLc9e/b4KGIzXH311R7n/8UXXxTbls/ZWV999ZXHNVu5cqUk6fbbby/2mMr2OcvPz1f79u01c+bMIt9/4YUX9MorryglJUVffvmlLrvsMsXFxenkyZPF9unt9+KlqKTrduLECW3evFlPPfWUNm/erMWLF2v79u26+eabz9uvN7/nl5rzfdYkqU+fPh7n/95775XYZ2X/rEnyuF4HDhzQ7Nmz5XA49Je//KXEfivyZ81YLsvMrRKqFKt7RUdHq1OnTpoxY4YkyeVyKTIyUmPGjNHjjz9eqP3AgQOVn5+vjz/+2L3vuuuuU1RUlFJSUnwWt0kOHTqk0NBQrV27Vtdff32RbebOnauxY8fq6NGjvg3OEBMnTtSSJUuUkZFxQe35nBVt7Nix+vjjj7Vjxw45HI5C71f2z5nD4dAHH3yg/v37Szo7ixIREaGHH35Y48aNkyTl5uYqLCxMc+fO1aBBg4rsx9vvxUvdH69bUb766itde+212rNnjxo2bFhkG29/zy9lRV2zYcOG6ejRo4VmCkrCZ62w/v3769ixY0pLSyu2TWX6rJnAvbpXg1Fmru71Ywqre1U0BQUF2rRpk2JjY937/Pz8FBsbq/T09CKPSU9P92gvSXFxccW2rwxyc3MlSXXr1i2x3fHjx9WoUSNFRkbqlltu0bfffuuL8IyxY8cORUREqGnTpho8eLCysrKKbcvnrLCCggK98847uvvuu4tMUM6p7J+z39u1a5eys7M9PkvBwcGKjo4u9rNUmu/FyiA3N1cOh0O1a9cusZ03v+cV0Zo1axQaGqqWLVvq/vvv15EjR4pty2etsJycHC1dulQjRow4b9vK/llD5Vbhk5TDhw/L6XQqLCzMY39YWJiys7OLPCY7O9ur9hWdy+XS2LFj1aVLF7Vp06bYdi1bttTs2bP14Ycf6p133pHL5VLnzp21b98+H0Zrn+joaM2dO1epqamaNWuWdu3apW7duunYsWNFtudzVtiSJUt09OhRDRs2rNg2lf1z9kfnPi/efJZK871Y0Z08eVKPPfaY4uPjS/xLpbe/5xVNnz599K9//UtpaWl6/vnntXbtWvXt21dOp7PI9nzWCps3b55q1aqlW2+9tcR2lf2zZptzq3uZtlVCLEGM8xo9erS2bt163lrYmJgYxcTEuF937txZV111lV577TVNnjy5vMO0Xd++fd3/3a5dO0VHR6tRo0Z6//33L+gvZpDeeust9e3bVxEREcW2qeyfM5S906dP64477pBlWZo1a1aJbSv77/nvywfbtm2rdu3aqVmzZlqzZo1uuOEGGyO7dMyePVuDBw8+74Iflf2zBlT4mZR69erJ399fOTk5HvtzcnIUHh5e5DHh4eFeta/IEhIS9PHHH2v16tW64oorvDq2atWquuaaa7Rz585yis5stWvXVosWLYo9fz5nnvbs2aNVq1bpnnvu8eq4yv45O/d58eazVJrvxYrqXIKyZ88erVy50ut67/P9nld0TZs2Vb169Yo9fz5rnj7//HNt377d6+85ic8aKp8Kn6RUq1ZNHTp08Lg5zeVyKS0tzeOvsb8XExNT6Ga2lStXFtu+IrIsSwkJCfrggw/06aefqkmTJl734XQ69c0336h+/frlEKH5jh8/rszMzGLPn8+Zpzlz5ig0NFQ33XSTV8dV9s9ZkyZNFB4e7vFZysvL05dfflnsZ6k034sV0bkEZceOHVq1apUuv/xyr/s43+95Rbdv3z4dOXKk2PPns+bprbfeUocOHdS+fXuvj63snzWfsWR/aVehze6LYo8Kn6RIUmJiot544w3NmzdP3333ne6//37l5+dr+PDhkqQhQ4Zo/Pjx7vYPPvigUlNTNWXKFG3btk0TJ07Uxo0blZCQYNcp+Nzo0aP1zjvv6N1331WtWrWUnZ2t7Oxs/fLLL+42f7xuTz/9tFasWKEffvhBmzdv1l133aU9e/aU6i9Gl6Jx48Zp7dq12r17t9atW6cBAwbI399f8fHxkviclcTlcmnOnDkaOnSoqlTxrELlc3b2HycZGRnuVX527dqljIwMZWVlyeFwaOzYsXrmmWf00Ucf6ZtvvtGQIUMUERHhsbrQDTfc4F5dSTr/92JFUNJ1O336tG677TZt3LhR8+fPl9PpdH/PFRQUuPv443U73+/5pa6ka3b8+HE98sgjWr9+vXbv3q20tDTdcsstat68ueLi4tx98FnzvG7n5OXladGiRcV+V1W2zxpwPpXinpSBAwfq0KFDmjBhgrKzsxUVFaXU1FT3jXxZWVny8/stX+vcubPeffddPfnkk3riiSd05ZVXasmSJSXeNF7RnKvL7tGjh8f+OXPmuG9q/uN1+/nnnzVy5EhlZ2erTp066tChg9atW6fWrVv7Kmxb7du3T/Hx8Tpy5IhCQkLUtWtXrV+/XiEhIZL4nJVk1apVysrK0t13313oPT5n0saNG9WzZ0/368TEREnS0KFDNXfuXD366KPKz8/Xvffeq6NHj6pr165KTU31qHnPzMzU4cOH3a/P971YEZR03SZOnKiPPvpIkhQVFeVx3OrVq93ffX+8buf7Pb/UlXTNZs2apa+//lrz5s3T0aNHFRERod69e2vy5MkKCPhtyVY+a4V/RyVpwYIFsiyr2CSjsn3WgPOpFM9JAQAAAIrjfk5K+L2q4lfN7nA8nHEVaFX26zwnBQAAAADsRJICAAAAwCiV4p4UAAAA4LxcLkkuu6Pw5DIsHh9hJgUAAACAUUhSAAAAABiFci8AAABA+u0BiiYxLR4fYSYFAAAAgFFIUgAAAAAYhXIvAAAAQKLcyyDMpAAAAAAwCkkKAAAAAKNQ7gUAAABIksuSZFh5lcuweHyEmRQAAAAARiFJAQAAAGAUyr0AAAAASZblkmW57A7Dg2nx+AozKQAAAACMQpICAAAAwCiUewEAAADS2QcnmraaFg9zBAAAAAD7kaQAAAAAMArlXgAAAID0a2mVYeVVlHsBAAAAgP1IUgAAAAAYhXIvAAAAQJJcLslh2MMTeZgjAAAAANiPJAUAAACAUSj3AgAAACRW9zIIMykAAAAAjEKSAgAAAMAolHsBAAAAkiyXS5Zhq3tZrO4FAAAAAPYjSQEAAABgFMq9AAAAAInVvQzCTAoAAAAAo5CkAAAAADAK5V4AAACAJLksyWFYeRXlXgAAAABgP5IUAAAAAEah3AsAAACQfi2tMuzhiZR7AQAAAID9SFIAAAAAGIVyLwAAAECS5bJkGba6l0W5FwAAAADYjyQFAAAAgFEo9wIAAAAkyXLJvNW9DIvHR5hJAQAAAGAUkhQAAAAARqHcCwAAABCre5mEmRQAAAAARiFJAQAAACqQmTNnqnHjxgoMDFR0dLQ2bNhQYvtFixapVatWCgwMVNu2bbVs2TIfRVo8khQAAABAOruSlombFxYuXKjExEQlJSVp8+bNat++veLi4nTw4MEi269bt07x8fEaMWKEtmzZov79+6t///7aunVrWVzRUnNYlbXQDQAAAJCUl5en4OBg9dAtquKoanc4Hs5Yp7VGHyo3N1dBQUHnbR8dHa1OnTppxowZkiSXy6XIyEiNGTNGjz/+eKH2AwcOVH5+vj7++GP3vuuuu05RUVFKSUkpuxPxEjMpAAAAQAVQUFCgTZs2KTY21r3Pz89PsbGxSk9PL/KY9PR0j/aSFBcXV2x7X2F1LwAAAEDSGZ2WDKsxOqPTks7O9vxeQECAAgICPPYdPnxYTqdTYWFhHvvDwsK0bdu2IvvPzs4usn12dvbFhn5RSFIAAABQqVWrVk3h4eH6Itv+G8aLUrNmTUVGRnrsS0pK0sSJE+0JyAdIUgAAAFCpBQYGateuXSooKLA7lCJZliWHw+Gx74+zKJJUr149+fv7Kycnx2N/Tk6OwsPDi+w7PDzcq/a+QpICAACASi8wMFCBgYF2h3FRqlWrpg4dOigtLU39+/eXdPbG+bS0NCUkJBR5TExMjNLS0jR27Fj3vpUrVyomJsYHERePJAUAAACoIBITEzV06FB17NhR1157raZPn678/HwNHz5ckjRkyBA1aNBAycnJkqQHH3xQ3bt315QpU3TTTTdpwYIF2rhxo15//XU7T4MkBQAAAKgoBg4cqEOHDmnChAnKzs5WVFSUUlNT3TfHZ2Vlyc/vtwV+O3furHfffVdPPvmknnjiCV155ZVasmSJ2rRpY9cpSOI5KQAAAAAMw3NSAAAAABiFJAUAAACAUUhSAAAAABiFJAUAAACAUUhSAAAAABiFJAUAAACAUUhSAAAAABiFJAUAAACAUUhSAAAAABiFJAUAAACAUUhSAAAAABiFJAUAAACAUf4/ltWzA7KgCZ8AAAAASUVORK5CYII=\n"
          },
          "metadata": {}
        }
      ]
    },
    {
      "cell_type": "markdown",
      "source": [
        "Questões Discursivas - Parte B\n",
        "\n",
        "1. A vs Dijkstra: qual expande menos nós?\n",
        "\n",
        "O A* geralmente expande menos nós que o Dijkstra porque usa uma heurística para guiar a busca em direção ao objetivo. Enquanto o Dijkstra explora igualmente em todas as direções, o A* prioriza nós que parecem estar mais próximos do destino, tornando-o mais eficiente em problemas onde uma boa heurística está disponível.\n",
        "\n",
        "2. Por que a heurística Manhattan é admissível nesse caso?\n",
        "\n",
        "A distância Manhattan é admissível neste contexto porque em um grid com movimentação nas 4 direções (cima, baixo, esquerda, direita), ela nunca superestima o custo real. O custo mínimo entre dois pontos em tal grid é exatamente a distância Manhattan, já que cada movimento tem custo 1 e não é possível \"cortar caminho\" na diagonal."
      ],
      "metadata": {
        "id": "UnSlXTHKTdPv"
      }
    },
    {
      "cell_type": "markdown",
      "source": [
        "Parte C — Árvores Binárias e Percursos\n",
        "\n",
        "Implementação da BST e Percursos"
      ],
      "metadata": {
        "id": "9Fwjq8VSTf7F"
      }
    },
    {
      "cell_type": "code",
      "source": [
        "class TreeNode:\n",
        "    def __init__(self, value):\n",
        "        self.value = value\n",
        "        self.left = None\n",
        "        self.right = None\n",
        "\n",
        "class BinarySearchTree:\n",
        "    def __init__(self):\n",
        "        self.root = None\n",
        "\n",
        "    def insert(self, value):\n",
        "        if self.root is None:\n",
        "            self.root = TreeNode(value)\n",
        "        else:\n",
        "            self._insert_recursive(self.root, value)\n",
        "\n",
        "    def _insert_recursive(self, node, value):\n",
        "        if value < node.value:\n",
        "            if node.left is None:\n",
        "                node.left = TreeNode(value)\n",
        "            else:\n",
        "                self._insert_recursive(node.left, value)\n",
        "        else:\n",
        "            if node.right is None:\n",
        "                node.right = TreeNode(value)\n",
        "            else:\n",
        "                self._insert_recursive(node.right, value)\n",
        "\n",
        "    def in_order(self, node, result=None):\n",
        "        if result is None:\n",
        "            result = []\n",
        "        if node:\n",
        "            self.in_order(node.left, result)\n",
        "            result.append(node.value)\n",
        "            self.in_order(node.right, result)\n",
        "        return result\n",
        "\n",
        "    def pre_order(self, node, result=None):\n",
        "        if result is None:\n",
        "            result = []\n",
        "        if node:\n",
        "            result.append(node.value)\n",
        "            self.pre_order(node.left, result)\n",
        "            self.pre_order(node.right, result)\n",
        "        return result\n",
        "\n",
        "    def post_order(self, node, result=None):\n",
        "        if result is None:\n",
        "            result = []\n",
        "        if node:\n",
        "            self.post_order(node.left, result)\n",
        "            self.post_order(node.right, result)\n",
        "            result.append(node.value)\n",
        "        return result\n",
        "\n",
        "def test_bst_traversals():\n",
        "    values = [50, 30, 70, 20, 40, 60, 80, 35, 45]\n",
        "    bst = BinarySearchTree()\n",
        "\n",
        "    for value in values:\n",
        "        bst.insert(value)\n",
        "\n",
        "    print(\"Valores inseridos:\", values)\n",
        "    print(\"\\nPercurso em-ordem:\", bst.in_order(bst.root))\n",
        "    print(\"Percurso pré-ordem:\", bst.pre_order(bst.root))\n",
        "    print(\"Percurso pós-ordem:\", bst.post_order(bst.root))\n",
        "\n",
        "\n",
        "    print(\"\\nPropriedades:\")\n",
        "    print(\"Em-ordem deve estar ordenado:\", sorted(values) == bst.in_order(bst.root))\n",
        "\n",
        "    return bst\n",
        "\n",
        "\n",
        "bst = test_bst_traversals()"
      ],
      "metadata": {
        "id": "u8RolGpgTi9t",
        "outputId": "0ffb3492-874c-4523-eb5c-b860806976d3",
        "colab": {
          "base_uri": "https://localhost:8080/"
        }
      },
      "execution_count": null,
      "outputs": [
        {
          "output_type": "stream",
          "name": "stdout",
          "text": [
            "Valores inseridos: [50, 30, 70, 20, 40, 60, 80, 35, 45]\n",
            "\n",
            "Percurso em-ordem: [20, 30, 35, 40, 45, 50, 60, 70, 80]\n",
            "Percurso pré-ordem: [50, 30, 20, 40, 35, 45, 70, 60, 80]\n",
            "Percurso pós-ordem: [20, 35, 45, 40, 30, 60, 80, 70, 50]\n",
            "\n",
            "Propriedades:\n",
            "Em-ordem deve estar ordenado: True\n"
          ]
        }
      ]
    },
    {
      "cell_type": "markdown",
      "source": [
        "Questões Discursivas - Parte C\n",
        "\n",
        "1. Em que situação cada tipo de percurso é mais indicado?\n",
        "\n",
        "· Em-ordem: Ideal para obter elementos em ordem crescente em BSTs, útil para relatórios ordenados, estatísticas ou quando se precisa processar dados de forma sequencial.\n",
        "\n",
        "· Pré-ordem: Útil para copiar/reconstruir árvores, serialização, ou quando se precisa processar a raiz antes das subárvores (como em expressões matemáticas).\n",
        "\n",
        "· Pós-ordem: Adequado para operações que requerem processar filhos antes dos pais, como liberação de memória, cálculo de totais acumulados, ou avaliação de expressões pós-fixadas."
      ],
      "metadata": {
        "id": "7_lLhTS2VQNT"
      }
    },
    {
      "cell_type": "markdown",
      "source": [
        "Parte D — Reflexões"
      ],
      "metadata": {
        "id": "32WmMWCKVRH-"
      }
    },
    {
      "cell_type": "markdown",
      "source": [
        "1. Quando não é vantajoso usar A, mesmo tendo uma heurística?\n",
        "\n",
        "O A* pode não ser vantajoso quando: (1) o espaço de busca é muito pequeno e o overhead da heurística supera o benefício; (2) a heurística é computacionalmente cara; (3) em ambientes dinâmicos onde o custo das arestas muda frequentemente; (4) quando a memória é limitada, pois o A* mantém mais informações que algoritmos mais simples; (5) em problemas onde a qualidade da solução não precisa ser ótima, podendo-se usar algoritmos mais rápidos como Best-First Search.\n",
        "\n",
        "2. Diferencie corretude e otimalidade nos algoritmos estudados.\n",
        "\n",
        "Corretude refere-se à capacidade do algoritmo sempre encontrar uma solução quando ela existe (terminação) e nunca retornar uma solução incorreta. Optimalidade significa que o algoritmo sempre encontra a melhor solução possível (menor custo). Dijkstra e A* são ambos corretos e ótimos para grafos com pesos não-negativos. Um algoritmo pode ser correto mas não ótimo (como Best-First Search com heurística), mas não pode ser ótimo sem ser correto.\n",
        "\n",
        "3. Dê um exemplo do mundo real onde cada tipo de percurso (em, pré, pós) é essencial.\n",
        "\n",
        "· Em-ordem: Sistema de recomendação de produtos por preço - ao percorrer uma BST de produtos ordenada por preço em-ordem, obtemos produtos do mais barato ao mais caro naturalmente. · Pré-ordem: Clone de estrutura organizacional - ao copiar uma hierarquia de departamentos de empresa, precisamos criar o nó pai (gerente) antes dos filhos (subordinados). · Pós-ordem: Cálculo de orçamento em projetos - para calcular o custo total de um projeto, precisamos somar primeiro os custos das sub-tarefas antes do projeto principal.\n",
        "\n",
        "4. Como heurísticas inconsistentes podem afetar o resultado do A ?\n",
        "\n",
        "Heurísticas inconsistentes (que violam a desigualdade triangular) podem fazer com que o A* reexpanda nós, aumentando significativamente o tempo de execução. Embora o A* ainda retorne o caminho ótimo com heurísticas admissíveis mas inconsistentes, a eficiência é comprometida. Em casos extremos, o comportamento pode se aproximar do Dijkstra. Heurísticas consistentes garantem que cada nó seja expandido apenas uma vez, otimizando a performance."
      ],
      "metadata": {
        "id": "vHrxqZ62VTX1"
      }
    }
  ],
  "metadata": {
    "colab": {
      "provenance": [],
      "include_colab_link": true
    },
    "kernelspec": {
      "display_name": "Python 3",
      "name": "python3"
    }
  },
  "nbformat": 4,
  "nbformat_minor": 0
}
